{
 "cells": [
  {
   "cell_type": "markdown",
   "metadata": {},
   "source": [
    "# Simple application of the nural network. The idea is taken from the Bishop book.\n",
    "\n"
   ]
  },
  {
   "cell_type": "markdown",
   "metadata": {},
   "source": [
    "In my case, 2 features in the input, thus two input section and one is for the bias. I chose 4 hidden layer. I had used the soft max approach, so my output has two output section, one for the label 0 and one is for the other label 1."
   ]
  },
  {
   "cell_type": "markdown",
   "metadata": {},
   "source": [
    "$$a_1=W_1^T X+b_1$$\n",
    "$$z_1=sig(a_1)$$\n",
    "$$a_2=W_2^T+b_2$$\n",
    "$$z_2=\\frac{exp(a_2)}{(\\sum (exp(a))}$$\n",
    "\n",
    "$$\\delta_2=(z_2-t) $$\n",
    "$$\\text{where t is 1-K coding and takes value 1 if present 0 otherwise: detail from the Bishop}$$\n",
    "\n",
    "$$\\frac{dE}{dW_2}=dW_2=z_1^T\\delta_2 $$\n",
    "$$\\delta_1=\\delta_2 W_2^T  sig'(a_1)$$\n",
    "\n",
    "$$\\frac{dE}{dW_1}=dW_2=X^T\\delta_1 $$\n"
   ]
  },
  {
   "cell_type": "markdown",
   "metadata": {},
   "source": [
    "use the gradient descent:\n",
    "$$W=W-\\epsilon dw$$\n",
    "That is the simple formula."
   ]
  },
  {
   "cell_type": "code",
   "execution_count": 13,
   "metadata": {
    "collapsed": false
   },
   "outputs": [],
   "source": [
    "import numpy as np\n",
    "import matplotlib.pyplot as plt\n",
    "%matplotlib inline\n",
    "import seaborn"
   ]
  },
  {
   "cell_type": "code",
   "execution_count": 19,
   "metadata": {
    "collapsed": false
   },
   "outputs": [
    {
     "data": {
      "image/png": "[encoded data removed]",
      "text/plain": [
       "<matplotlib.figure.Figure at 0x10076828>"
      ]
     },
     "metadata": {},
     "output_type": "display_data"
    }
   ],
   "source": [
    "from sklearn.datasets import make_circles\n",
    "X, y = make_circles(factor=0.5, random_state=0, noise=0.05)\n",
    "\n",
    "# scatter plot of original and reduced data\n",
    "plt.scatter(X[:, 0], X[:, 1], c=y, s=50)\n",
    "plt.show()\n"
   ]
  },
  {
   "cell_type": "code",
   "execution_count": 111,
   "metadata": {
    "collapsed": false
   },
   "outputs": [],
   "source": [
    "n_input=2\n",
    "n_hidden=10\n",
    "n_output=2\n",
    "epsilon=0.001\n",
    "def sigmoid(x):\n",
    "    return 1/(1+np.exp(-x))\n",
    "def d_sigmoid(x):\n",
    "    return sigmoid(x)*(1-sigmoid(x))\n"
   ]
  },
  {
   "cell_type": "code",
   "execution_count": 112,
   "metadata": {
    "collapsed": true
   },
   "outputs": [],
   "source": [
    "W1=np.random.rand(n_input,n_hidden)\n",
    "b1=np.random.rand(n_hidden)\n",
    "W2=np.random.rand(n_hidden,n_output)\n",
    "b2=np.random.rand(n_output)\n"
   ]
  },
  {
   "cell_type": "code",
   "execution_count": 114,
   "metadata": {
    "collapsed": false
   },
   "outputs": [
    {
     "name": "stdout",
     "output_type": "stream",
     "text": [
      "iteration 0: 0.194487\n",
      "iteration 10000: 0.173910\n",
      "iteration 20000: 0.157233\n",
      "iteration 30000: 0.143449\n",
      "iteration 40000: 0.131869\n",
      "iteration 50000: 0.122003\n",
      "iteration 60000: 0.113496\n",
      "iteration 70000: 0.106087\n",
      "iteration 80000: 0.099575\n",
      "iteration 90000: 0.093805\n",
      "iteration 100000: 0.088659\n",
      "iteration 110000: 0.084039\n",
      "iteration 120000: 0.079868\n",
      "iteration 130000: 0.076085\n",
      "iteration 140000: 0.072637\n",
      "iteration 150000: 0.069482\n",
      "iteration 160000: 0.066583\n",
      "iteration 170000: 0.063912\n",
      "iteration 180000: 0.061441\n",
      "iteration 190000: 0.059150\n",
      "iteration 200000: 0.057020\n",
      "iteration 210000: 0.055033\n",
      "iteration 220000: 0.053177\n",
      "iteration 230000: 0.051438\n",
      "iteration 240000: 0.049807\n",
      "iteration 250000: 0.048273\n",
      "iteration 260000: 0.046828\n",
      "iteration 270000: 0.045464\n",
      "iteration 280000: 0.044175\n",
      "iteration 290000: 0.042955\n",
      "iteration 300000: 0.041799\n",
      "iteration 310000: 0.040701\n",
      "iteration 320000: 0.039658\n",
      "iteration 330000: 0.038665\n",
      "iteration 340000: 0.037719\n",
      "iteration 350000: 0.036817\n",
      "iteration 360000: 0.035956\n",
      "iteration 370000: 0.035133\n",
      "iteration 380000: 0.034345\n",
      "iteration 390000: 0.033591\n",
      "iteration 400000: 0.032868\n",
      "iteration 410000: 0.032174\n",
      "iteration 420000: 0.031508\n",
      "iteration 430000: 0.030869\n",
      "iteration 440000: 0.030253\n",
      "iteration 450000: 0.029661\n",
      "iteration 460000: 0.029091\n",
      "iteration 470000: 0.028542\n",
      "iteration 480000: 0.028012\n",
      "iteration 490000: 0.027501\n"
     ]
    }
   ],
   "source": [
    "for i in range(500000):\n",
    "    a1=np.dot(X,W1)+b1\n",
    "    z1=sigmoid(a1)\n",
    "    \n",
    "    a2=np.dot(z1,W2)+b2\n",
    "    z2=np.exp(a2)\n",
    "    z2=z2/(np.sum(z2,axis=1,keepdims=True))\n",
    "    \n",
    "    loss=np.sum(-np.log(z2[range(len(X)),y]))\n",
    "    \n",
    "    if loss and i%10000==0:\n",
    "        print 'iteration %i: %f' %(i,loss)\n",
    "    \n",
    "    delta2=z2\n",
    "    delta2[range(len(X)),y]=delta2[range(len(X)),y]-1\n",
    "    \n",
    "    dW2=np.dot(z1.T,delta2)\n",
    "    W2=W2-epsilon*dW2\n",
    "    \n",
    "    db2=np.sum(delta2,axis=0)\n",
    "    b2=b2-epsilon*db2\n",
    "    \n",
    "    delta1=np.dot(delta2,W2.T)*d_sigmoid(a1)\n",
    "    dW1=np.dot(X.T,delta1)\n",
    "    W1=W1-epsilon*dW1\n",
    "    \n",
    "    db1=np.sum(delta1,axis=0)\n",
    "    b1=b1-epsilon*db1\n",
    "    \n",
    "    \n",
    "    "
   ]
  },
  {
   "cell_type": "code",
   "execution_count": 115,
   "metadata": {
    "collapsed": false
   },
   "outputs": [],
   "source": [
    "def prediction(W1,W2, b1,b2,X):\n",
    "    a1=np.dot(X,W1)+b1\n",
    "    z1=sigmoid(a1)\n",
    "    \n",
    "    a2=np.dot(z1,W2)+b2\n",
    "    z2=np.exp(a2)\n",
    "    z2=z2/(np.sum(z2))\n",
    "    return np.argmax(z2)\n"
   ]
  },
  {
   "cell_type": "code",
   "execution_count": null,
   "metadata": {
    "collapsed": false
   },
   "outputs": [],
   "source": [
    "x_min, x_max = X[:, 0].min() - .5, X[:, 0].max() + .5\n",
    "y_min, y_max = X[:, 1].min() - .5, X[:, 1].max() + .5\n",
    "h = 0.01\n",
    "xx, yy = np.meshgrid(np.arange(x_min, x_max, h), np.arange(y_min, y_max, h))\n",
    "Z = (np.c_[xx.ravel(), yy.ravel()])\n",
    "\n",
    "m=Z.shape[0]\n",
    "labels=[]\n",
    "for i in range(m):\n",
    "    myvalue=prediction(W1,W2, b1,b2,Z[i])\n",
    "    if myvalue==1:\n",
    "        label=1\n",
    "    elif myvalue==0:\n",
    "        label=0\n",
    "    labels.append(label)\n",
    "    \n",
    "labels=np.array(labels)\n",
    "labels=labels.reshape(xx.shape)\n",
    "plt.contourf(xx, yy, labels, cmap=plt.cm.Spectral)\n",
    "plt.scatter(X[:, 0], X[:, 1], c=y, cmap=plt.cm.Spectral)\n",
    "plt.show()"
   ]
  },
  {
   "cell_type": "code",
   "execution_count": null,
   "metadata": {
    "collapsed": true
   },
   "outputs": [],
   "source": []
  }
 ],
 "metadata": {
  "kernelspec": {
   "display_name": "Python 2",
   "language": "python",
   "name": "python2"
  },
  "language_info": {
   "codemirror_mode": {
    "name": "ipython",
    "version": 2
   },
   "file_extension": ".py",
   "mimetype": "text/x-python",
   "name": "python",
   "nbconvert_exporter": "python",
   "pygments_lexer": "ipython2",
   "version": "2.7.11"
  }
 },
 "nbformat": 4,
 "nbformat_minor": 0
}
