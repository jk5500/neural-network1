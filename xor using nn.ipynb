{
 "cells": [
  {
   "cell_type": "code",
   "execution_count": 9,
   "metadata": {
    "collapsed": true
   },
   "outputs": [],
   "source": [
    "import matplotlib.pyplot as plt\n",
    "import numpy as np\n",
    "import seaborn\n",
    "%matplotlib inline\n"
   ]
  },
  {
   "cell_type": "code",
   "execution_count": 40,
   "metadata": {
    "collapsed": false
   },
   "outputs": [],
   "source": [
    "X=np.array([[1,0],[0,1],[1,1],[0,0]])\n",
    "y=np.array([0,0,1,1])\n"
   ]
  },
  {
   "cell_type": "code",
   "execution_count": 41,
   "metadata": {
    "collapsed": true
   },
   "outputs": [],
   "source": [
    "def sig(x):\n",
    "    return 1/(1+np.exp(-x))\n",
    "\n",
    "def sig_d(x):\n",
    "    return sig(x)*(1-sig(x))"
   ]
  },
  {
   "cell_type": "code",
   "execution_count": 47,
   "metadata": {
    "collapsed": false
   },
   "outputs": [],
   "source": [
    "np.random.seed(0)\n",
    "n_input=2\n",
    "n_hidden=4\n",
    "n_output=2\n",
    "W1=np.random.rand(n_input,n_hidden)\n",
    "b1=np.random.rand(n_hidden)\n",
    "W2=np.random.rand(n_hidden,n_output)\n",
    "b2=np.random.rand(n_output)\n",
    "epsilon=0.01\n"
   ]
  },
  {
   "cell_type": "code",
   "execution_count": 51,
   "metadata": {
    "collapsed": false
   },
   "outputs": [
    {
     "name": "stdout",
     "output_type": "stream",
     "text": [
      "iteration 0: 0.006596\n",
      "iteration 100000: 0.003154\n",
      "iteration 200000: 0.002075\n",
      "iteration 300000: 0.001547\n",
      "iteration 400000: 0.001233\n",
      "iteration 500000: 0.001026\n",
      "iteration 600000: 0.000878\n",
      "iteration 700000: 0.000768\n",
      "iteration 800000: 0.000682\n",
      "iteration 900000: 0.000613\n"
     ]
    }
   ],
   "source": [
    "for i in range(1000000):\n",
    "    a2=X.dot(W1)+b1\n",
    "    z2=sig(a2)\n",
    "    a3=z2.dot(W2)+b2\n",
    "    exp_scores = np.exp(a3)\n",
    "    z3= exp_scores / np.sum(exp_scores, axis=1, keepdims=True)\n",
    "    loss= z3[range(len(X)),y]\n",
    "    loss=-np.log(loss)\n",
    "    loss=np.sum(loss)\n",
    "    if loss and i%100000==0:\n",
    "        print 'iteration %i: %f' %(i,loss)\n",
    "    \n",
    "    delta3=z3\n",
    "    delta3[range(len(X)),y]=delta3[range(len(X)),y]-1\n",
    "    \n",
    "    \n",
    "    dw2=z2.T.dot(delta3)\n",
    "    db2=np.sum(delta3)\n",
    "    \n",
    "    delta2=delta3.dot(W2.T)*sig_d(a2)\n",
    "    dw1=np.dot(X.T,delta2)\n",
    "    db1=np.sum(delta2)\n",
    "    \n",
    "    W1+=-epsilon*dw1\n",
    "    b1+=-epsilon*db1\n",
    "    \n",
    "    W2+=-epsilon*dw2\n",
    "    b2+=-epsilon*db2\n",
    "    \n",
    "    \n",
    "\n",
    "    \n",
    "\n",
    "    \n",
    "    "
   ]
  },
  {
   "cell_type": "code",
   "execution_count": 49,
   "metadata": {
    "collapsed": false
   },
   "outputs": [],
   "source": [
    "def prediction(W1,W2,b1,b2,X):\n",
    "    a2=np.dot(X,W1)+b1\n",
    "    z2=sig(a2)\n",
    "    a3=np.dot(z2,W2)+b2\n",
    "    exp_scores = np.exp(a3)\n",
    "    z3= exp_scores / np.sum(exp_scores)\n",
    "    return np.argmax(z3)\n",
    "    \n",
    "    "
   ]
  },
  {
   "cell_type": "code",
   "execution_count": null,
   "metadata": {
    "collapsed": false
   },
   "outputs": [],
   "source": []
  },
  {
   "cell_type": "code",
   "execution_count": 50,
   "metadata": {
    "collapsed": false
   },
   "outputs": [
    {
     "data": {
      "image/png": "[encoded data removed]",
      "text/plain": [
       "<matplotlib.figure.Figure at 0xb9665f8>"
      ]
     },
     "metadata": {},
     "output_type": "display_data"
    }
   ],
   "source": [
    "x_min, x_max = X[:, 0].min() - .5, X[:, 0].max() + .5\n",
    "y_min, y_max = X[:, 1].min() - .5, X[:, 1].max() + .5\n",
    "h = 0.01\n",
    "xx, yy = np.meshgrid(np.arange(x_min, x_max, h), np.arange(y_min, y_max, h))\n",
    "Z = (np.c_[xx.ravel(), yy.ravel()])\n",
    "\n",
    "m=Z.shape[0]\n",
    "labels=[]\n",
    "for i in range(m):\n",
    "    myvalue=prediction(W1,W2, b1,b2,Z[i])\n",
    "    if myvalue==1:\n",
    "        label=1\n",
    "    elif myvalue==0:\n",
    "        label=0\n",
    "    labels.append(label)\n",
    "    \n",
    "labels=np.array(labels)\n",
    "labels=labels.reshape(xx.shape)\n",
    "plt.pcolormesh(xx, yy, labels, cmap=plt.cm.Spectral)\n",
    "plt.scatter(X[:, 0], X[:, 1], c=y, cmap=plt.cm.Spectral)\n",
    "plt.show()\n",
    "\n",
    "\n",
    "    \n",
    "    \n",
    "    "
   ]
  },
  {
   "cell_type": "code",
   "execution_count": null,
   "metadata": {
    "collapsed": true
   },
   "outputs": [],
   "source": []
  },
  {
   "cell_type": "code",
   "execution_count": null,
   "metadata": {
    "collapsed": true
   },
   "outputs": [],
   "source": []
  },
  {
   "cell_type": "code",
   "execution_count": null,
   "metadata": {
    "collapsed": true
   },
   "outputs": [],
   "source": []
  }
 ],
 "metadata": {
  "kernelspec": {
   "display_name": "Python 2",
   "language": "python",
   "name": "python2"
  },
  "language_info": {
   "codemirror_mode": {
    "name": "ipython",
    "version": 2
   },
   "file_extension": ".py",
   "mimetype": "text/x-python",
   "name": "python",
   "nbconvert_exporter": "python",
   "pygments_lexer": "ipython2",
   "version": "2.7.11"
  }
 },
 "nbformat": 4,
 "nbformat_minor": 0
}
