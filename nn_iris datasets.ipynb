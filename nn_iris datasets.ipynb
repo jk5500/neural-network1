{
 "cells": [
  {
   "cell_type": "code",
   "execution_count": 262,
   "metadata": {
    "collapsed": false
   },
   "outputs": [
    {
     "data": {
      "text/plain": [
       "array([0, 0, 1, 1])"
      ]
     },
     "execution_count": 262,
     "metadata": {},
     "output_type": "execute_result"
    }
   ],
   "source": [
    "import matplotlib.pyplot as plt\n",
    "import numpy as np\n",
    "from sklearn import datasets\n",
    "%matplotlib inline\n",
    "#iris = datasets.load_iris()\n",
    "#X = iris.data[:100, 1:3]  # we only take the first two features.\n",
    "#Y = iris.target\n",
    "#y=Y[50:]\n",
    "\n",
    "#y=y-1\n",
    "X=np.array([[1,0],[0,1],[0,0],[1,1]])\n",
    "y=np.array([0,0,1,1])\n",
    "y"
   ]
  },
  {
   "cell_type": "code",
   "execution_count": 263,
   "metadata": {
    "collapsed": false
   },
   "outputs": [
    {
     "data": {
      "text/plain": [
       "array([ 0.97861834,  0.79915856])"
      ]
     },
     "execution_count": 263,
     "metadata": {},
     "output_type": "execute_result"
    }
   ],
   "source": [
    "np.random.seed(0)\n",
    "n_input=2\n",
    "n_hidden=4\n",
    "n_output=2\n",
    "W1=np.random.rand(n_input,n_hidden)\n",
    "b1=np.random.rand(n_hidden)\n",
    "W2=np.random.rand(n_hidden,n_output)\n",
    "b2=np.random.rand(n_output)\n",
    "b2"
   ]
  },
  {
   "cell_type": "code",
   "execution_count": 264,
   "metadata": {
    "collapsed": false
   },
   "outputs": [],
   "source": [
    "def sigmoid(x):\n",
    "    return 1/(1+np.exp(-x))\n",
    "def der_sigmoid(x):\n",
    "    return sigmoid(x)*(1-sigmoid(x))\n",
    "epsilon=0.001\n",
    "reg_lambda=0.01"
   ]
  },
  {
   "cell_type": "code",
   "execution_count": 265,
   "metadata": {
    "collapsed": false
   },
   "outputs": [
    {
     "name": "stdout",
     "output_type": "stream",
     "text": [
      "iteration 0: 3.185620\n",
      "iteration 10000: 2.817584\n",
      "iteration 20000: 2.806474\n",
      "iteration 30000: 2.796632\n",
      "iteration 40000: 2.785445\n",
      "iteration 50000: 2.768418\n",
      "iteration 60000: 2.737420\n",
      "iteration 70000: 2.678501\n",
      "iteration 80000: 2.564726\n",
      "iteration 90000: 2.346996\n"
     ]
    }
   ],
   "source": [
    "for i in range(100000):\n",
    "    a2=X.dot(W1)+b1\n",
    "    z2=sigmoid(a2)\n",
    "    \n",
    "    a3=z2.dot(W2)+b2\n",
    "    value=np.exp(a3)\n",
    "    z3=value/(np.sum(value,axis=1,keepdims=True))\n",
    "    \n",
    "    loss=z3[range(len(X)),y]\n",
    "    energy=np.sum(-np.log(loss))\n",
    "    energy+=reg_lambda*(np.sum(np.square(W1))+np.sum(np.square(W2)))\n",
    "    if energy and i%10000==0:\n",
    "        print 'iteration %i: %f' %(i,energy)\n",
    "    \n",
    "    \n",
    "    delta3=z3\n",
    "    delta3[range(len(X)),y]=delta3[range(len(X)),y]-1\n",
    "    \n",
    "    dw2=z2.T.dot(delta3)\n",
    "    db2=np.sum(delta3)\n",
    "    \n",
    "    delta2=delta3.dot(W2.T)*der_sigmoid(a2)\n",
    "    \n",
    "    dw1=X.T.dot(delta2)\n",
    "    db1=np.sum(delta2)\n",
    "    \n",
    "    dw1+=reg_lambda*W1\n",
    "    dw2+=reg_lambda*W2\n",
    "    \n",
    "    \n",
    "    W1+=-epsilon*dw1\n",
    "     \n",
    "    W2+=-epsilon*dw2\n",
    "     \n",
    "    b1+=-epsilon*db1\n",
    "     \n",
    "    b2+=-epsilon*db2\n"
   ]
  },
  {
   "cell_type": "code",
   "execution_count": 266,
   "metadata": {
    "collapsed": false
   },
   "outputs": [],
   "source": [
    "def prediction(W1,W2, b1,b2,X):\n",
    "    a2=X.dot(W1)+b1\n",
    "    z2=sigmoid(a2)\n",
    "    \n",
    "    a3=z2.dot(W2)+b2\n",
    "    value=np.exp(a3)\n",
    "    z3=value/(np.sum(value))  \n",
    "    return np.argmax(z3)\n",
    "\n"
   ]
  },
  {
   "cell_type": "code",
   "execution_count": 267,
   "metadata": {
    "collapsed": false
   },
   "outputs": [
    {
     "data": {
      "image/png": "[encoded data removed]",
      "text/plain": [
       "<matplotlib.figure.Figure at 0x9cdc240>"
      ]
     },
     "metadata": {},
     "output_type": "display_data"
    }
   ],
   "source": [
    "x_min, x_max = X[:, 0].min() - .5, X[:, 0].max() + .5\n",
    "y_min, y_max = X[:, 1].min() - .5, X[:, 1].max() + .5\n",
    "h = 0.01\n",
    "xx, yy = np.meshgrid(np.arange(x_min, x_max, h), np.arange(y_min, y_max, h))\n",
    "Z = (np.c_[xx.ravel(), yy.ravel()])\n",
    "\n",
    "m=Z.shape[0]\n",
    "labels=[]\n",
    "for i in range(m):\n",
    "    myvalue=prediction(W1,W2, b1,b2,Z[i])\n",
    "    if myvalue==1:\n",
    "        label=1\n",
    "    elif myvalue==0:\n",
    "        label=0\n",
    "    labels.append(label)\n",
    "    \n",
    "labels=np.array(labels)\n",
    "labels=labels.reshape(xx.shape)\n",
    "plt.pcolormesh(xx, yy, labels, cmap=plt.cm.Spectral)\n",
    "plt.scatter(X[:, 0], X[:, 1], c=y, cmap=plt.cm.Spectral)\n",
    "plt.show()\n",
    "    "
   ]
  },
  {
   "cell_type": "code",
   "execution_count": null,
   "metadata": {
    "collapsed": true
   },
   "outputs": [],
   "source": []
  },
  {
   "cell_type": "code",
   "execution_count": null,
   "metadata": {
    "collapsed": true
   },
   "outputs": [],
   "source": []
  }
 ],
 "metadata": {
  "kernelspec": {
   "display_name": "Python 2",
   "language": "python",
   "name": "python2"
  },
  "language_info": {
   "codemirror_mode": {
    "name": "ipython",
    "version": 2
   },
   "file_extension": ".py",
   "mimetype": "text/x-python",
   "name": "python",
   "nbconvert_exporter": "python",
   "pygments_lexer": "ipython2",
   "version": "2.7.11"
  }
 },
 "nbformat": 4,
 "nbformat_minor": 0
}
